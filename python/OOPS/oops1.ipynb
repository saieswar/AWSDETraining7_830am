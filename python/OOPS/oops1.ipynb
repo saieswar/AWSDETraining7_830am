{
 "cells": [
  {
   "cell_type": "code",
   "execution_count": 1,
   "id": "084492f9",
   "metadata": {},
   "outputs": [],
   "source": [
    "# Python - OOP Concept -> Object oriented Programming\n",
    "\n",
    "# Class and Object\n",
    "\n",
    "class Person:\n",
    "    \n",
    "    def work(self):\n",
    "        print(\"Person is working\")\n"
   ]
  },
  {
   "cell_type": "code",
   "execution_count": 2,
   "id": "dfecb1e3",
   "metadata": {},
   "outputs": [
    {
     "ename": "TypeError",
     "evalue": "Person.work() missing 1 required positional argument: 'self'",
     "output_type": "error",
     "traceback": [
      "\u001b[1;31m---------------------------------------------------------------------------\u001b[0m",
      "\u001b[1;31mTypeError\u001b[0m                                 Traceback (most recent call last)",
      "Cell \u001b[1;32mIn[2], line 1\u001b[0m\n\u001b[1;32m----> 1\u001b[0m \u001b[43mPerson\u001b[49m\u001b[38;5;241;43m.\u001b[39;49m\u001b[43mwork\u001b[49m\u001b[43m(\u001b[49m\u001b[43m)\u001b[49m\n",
      "\u001b[1;31mTypeError\u001b[0m: Person.work() missing 1 required positional argument: 'self'"
     ]
    }
   ],
   "source": [
    "Person.work()"
   ]
  },
  {
   "cell_type": "code",
   "execution_count": 3,
   "id": "41115bcb",
   "metadata": {},
   "outputs": [
    {
     "name": "stdout",
     "output_type": "stream",
     "text": [
      "Person is working\n"
     ]
    }
   ],
   "source": [
    "p1 = Person()\n",
    "\n",
    "Person.work(p1)\n",
    "\n",
    "\n"
   ]
  },
  {
   "cell_type": "code",
   "execution_count": 4,
   "id": "14f851f5",
   "metadata": {},
   "outputs": [
    {
     "data": {
      "text/plain": [
       "__main__.Person"
      ]
     },
     "execution_count": 4,
     "metadata": {},
     "output_type": "execute_result"
    }
   ],
   "source": [
    "type(p1)"
   ]
  },
  {
   "cell_type": "code",
   "execution_count": 5,
   "id": "643d0872",
   "metadata": {},
   "outputs": [
    {
     "data": {
      "text/plain": [
       "int"
      ]
     },
     "execution_count": 5,
     "metadata": {},
     "output_type": "execute_result"
    }
   ],
   "source": [
    "a = 4\n",
    "type(a)"
   ]
  },
  {
   "cell_type": "code",
   "execution_count": 6,
   "id": "9521e7e0",
   "metadata": {},
   "outputs": [
    {
     "data": {
      "text/plain": [
       "float"
      ]
     },
     "execution_count": 6,
     "metadata": {},
     "output_type": "execute_result"
    }
   ],
   "source": [
    "a = 5.5\n",
    "type(a)"
   ]
  },
  {
   "cell_type": "code",
   "execution_count": 7,
   "id": "60ff04ca",
   "metadata": {},
   "outputs": [
    {
     "data": {
      "text/plain": [
       "str"
      ]
     },
     "execution_count": 7,
     "metadata": {},
     "output_type": "execute_result"
    }
   ],
   "source": [
    "a = 'sai'\n",
    "type(a)"
   ]
  },
  {
   "cell_type": "code",
   "execution_count": 8,
   "id": "0e0d4560",
   "metadata": {},
   "outputs": [
    {
     "data": {
      "text/plain": [
       "'Sai'"
      ]
     },
     "execution_count": 8,
     "metadata": {},
     "output_type": "execute_result"
    }
   ],
   "source": [
    "a.capitalize()"
   ]
  },
  {
   "cell_type": "code",
   "execution_count": null,
   "id": "f0abdc15",
   "metadata": {},
   "outputs": [],
   "source": []
  },
  {
   "cell_type": "code",
   "execution_count": 9,
   "id": "a7d65497",
   "metadata": {},
   "outputs": [],
   "source": [
    "class Person:\n",
    "    \n",
    "    def __int__(self):\n",
    "        print(\"God Creatd Obj\")\n",
    "    \n",
    "    \n",
    "    def work(self):\n",
    "        print(\"Person is working\")\n",
    "        \n",
    "kar_obj = Person()\n",
    "sai_obj = Person()\n",
    "\n"
   ]
  },
  {
   "cell_type": "code",
   "execution_count": 42,
   "id": "68a0f420",
   "metadata": {},
   "outputs": [],
   "source": [
    "\n",
    "class Person:\n",
    "    \n",
    "    #class variable\n",
    "    heart = \"leftside\"\n",
    "    \n",
    "    def __init__(self, name, age):          # Constructor\n",
    "        #instance variables\n",
    "        self.name = name\n",
    "        self.age = age\n",
    "        \n",
    "        print(\"Initialized by God\")\n",
    "        \n",
    "    \n",
    "    def work(self):\n",
    "        print(\"{} is working\".format(self.name))\n",
    "    \n",
    "    def person_age(self):\n",
    "        print(\"{} age is {}\".format(self.name, self.age))\n",
    "        #Patel Karteek age is 23\n",
    "    \n",
    "    def compare(self,obj):\n",
    "        if self == obj:\n",
    "            return True\n",
    "        else:\n",
    "            return False\n",
    "        \n",
    "    def use_inst_class_var(self):\n",
    "        print(\"instance: {},  class var: {}\".format(self.name, Person.heart) )\n",
    "        \n",
    "        \n",
    "        \n"
   ]
  },
  {
   "cell_type": "code",
   "execution_count": 43,
   "id": "30b6a138",
   "metadata": {},
   "outputs": [
    {
     "name": "stdout",
     "output_type": "stream",
     "text": [
      "Initialized by God\n",
      "Initialized by God\n"
     ]
    }
   ],
   "source": [
    "patel_obj = Person(\"Patel Karteek\",23)\n",
    "sai_obj = Person(\"Sai\", 30 )"
   ]
  },
  {
   "cell_type": "code",
   "execution_count": 44,
   "id": "b1d6650b",
   "metadata": {},
   "outputs": [
    {
     "name": "stdout",
     "output_type": "stream",
     "text": [
      "Patel Karteek is working\n"
     ]
    }
   ],
   "source": [
    "patel_obj.work()"
   ]
  },
  {
   "cell_type": "code",
   "execution_count": 45,
   "id": "8ef0c262",
   "metadata": {},
   "outputs": [
    {
     "name": "stdout",
     "output_type": "stream",
     "text": [
      "Sai is working\n"
     ]
    }
   ],
   "source": [
    "sai_obj.work()"
   ]
  },
  {
   "cell_type": "code",
   "execution_count": 46,
   "id": "42642ff0",
   "metadata": {},
   "outputs": [],
   "source": [
    "# self - current class obj\n",
    "\n"
   ]
  },
  {
   "cell_type": "code",
   "execution_count": 47,
   "id": "27e035e2",
   "metadata": {},
   "outputs": [
    {
     "name": "stdout",
     "output_type": "stream",
     "text": [
      "Patel Karteek age is 23\n"
     ]
    }
   ],
   "source": [
    "\n",
    "patel_obj.person_age()"
   ]
  },
  {
   "cell_type": "code",
   "execution_count": 48,
   "id": "555859a0",
   "metadata": {},
   "outputs": [
    {
     "data": {
      "text/plain": [
       "False"
      ]
     },
     "execution_count": 48,
     "metadata": {},
     "output_type": "execute_result"
    }
   ],
   "source": [
    "sai_obj.compare(patel_obj)"
   ]
  },
  {
   "cell_type": "code",
   "execution_count": 49,
   "id": "8f7775f3",
   "metadata": {},
   "outputs": [
    {
     "name": "stdout",
     "output_type": "stream",
     "text": [
      "instance: Sai,  class var: leftside\n"
     ]
    }
   ],
   "source": [
    "\n",
    "#instance and class var demo\n",
    "\n",
    "sai_obj = Person(\"Sai\", 30 )\n",
    "sai_obj.use_inst_class_var()"
   ]
  },
  {
   "cell_type": "code",
   "execution_count": null,
   "id": "2ec17306",
   "metadata": {},
   "outputs": [],
   "source": []
  },
  {
   "cell_type": "code",
   "execution_count": null,
   "id": "1df62357",
   "metadata": {},
   "outputs": [],
   "source": []
  },
  {
   "cell_type": "code",
   "execution_count": 52,
   "id": "c22d79be",
   "metadata": {},
   "outputs": [],
   "source": [
    "class Demo:\n",
    "    pass"
   ]
  },
  {
   "cell_type": "code",
   "execution_count": null,
   "id": "0da211ea",
   "metadata": {},
   "outputs": [],
   "source": []
  },
  {
   "cell_type": "markdown",
   "id": "39175e9f",
   "metadata": {},
   "source": [
    "# Inheritance"
   ]
  },
  {
   "cell_type": "code",
   "execution_count": 69,
   "id": "9a33c1ec",
   "metadata": {},
   "outputs": [],
   "source": [
    "\n",
    "##Singe Inheritance & Multilevel"
   ]
  },
  {
   "cell_type": "code",
   "execution_count": 76,
   "id": "425c331a",
   "metadata": {},
   "outputs": [],
   "source": [
    "#Subclass/child class\n",
    "\n",
    "#parent/base/super Class\n",
    "class A:\n",
    "    \n",
    "    def feature1(self):\n",
    "        print(\"parent class Feature 1\")\n",
    "    \n",
    "    def feature2(self):\n",
    "        print(\"parent class Feature 2\")\n",
    "\n",
    "class B(A):\n",
    "    \n",
    "    def feature3(self):\n",
    "        print(\"child feature 3\")\n",
    "    \n",
    "    def feature4(self):\n",
    "        print(\"child feature 4\")\n",
    "        \n",
    "\n",
    "class C(B):\n",
    "    def feature5(self):\n",
    "        print(\"C class Feature 5\")"
   ]
  },
  {
   "cell_type": "code",
   "execution_count": 77,
   "id": "c15aa180",
   "metadata": {},
   "outputs": [],
   "source": [
    "a = A()"
   ]
  },
  {
   "cell_type": "code",
   "execution_count": 78,
   "id": "1517720c",
   "metadata": {},
   "outputs": [
    {
     "name": "stdout",
     "output_type": "stream",
     "text": [
      "parent class Feature 1\n"
     ]
    }
   ],
   "source": [
    "a.feature1()"
   ]
  },
  {
   "cell_type": "code",
   "execution_count": 74,
   "id": "87f73639",
   "metadata": {},
   "outputs": [],
   "source": [
    "b = B()"
   ]
  },
  {
   "cell_type": "code",
   "execution_count": 79,
   "id": "bc47cff1",
   "metadata": {},
   "outputs": [
    {
     "name": "stdout",
     "output_type": "stream",
     "text": [
      "parent class Feature 1\n"
     ]
    }
   ],
   "source": [
    "b.feature1()"
   ]
  },
  {
   "cell_type": "code",
   "execution_count": 80,
   "id": "ba658e4a",
   "metadata": {},
   "outputs": [],
   "source": [
    "c = C()"
   ]
  },
  {
   "cell_type": "code",
   "execution_count": 81,
   "id": "07fde3b7",
   "metadata": {},
   "outputs": [
    {
     "name": "stdout",
     "output_type": "stream",
     "text": [
      "child feature 3\n"
     ]
    }
   ],
   "source": [
    "c.feature3()"
   ]
  },
  {
   "cell_type": "code",
   "execution_count": 82,
   "id": "566d7f5f",
   "metadata": {},
   "outputs": [
    {
     "name": "stdout",
     "output_type": "stream",
     "text": [
      "parent class Feature 1\n"
     ]
    }
   ],
   "source": [
    "c.feature1()"
   ]
  },
  {
   "cell_type": "code",
   "execution_count": 90,
   "id": "7c573d37",
   "metadata": {},
   "outputs": [],
   "source": [
    "class A:\n",
    "    \n",
    "    def __init__(self, appear):\n",
    "        self.appear = appear\n",
    "        print(\"A constructer\")\n",
    "        \n",
    "    def feature1(self):\n",
    "        print(\"parent class Feature 1\")\n",
    "    \n",
    "    def feature2(self):\n",
    "        print(\"parent class Feature 2\")\n",
    "\n",
    "class B(A):\n",
    "    \n",
    "    def __init__(self, appear):\n",
    "        self.appear = appear\n",
    "        print(\"Constructor B \")\n",
    "    \n",
    "    def feature3(self):\n",
    "        print(\"child feature 3\")\n",
    "    \n",
    "    def feature4(self):\n",
    "        print(\"child feature 4\")\n",
    "        \n"
   ]
  },
  {
   "cell_type": "code",
   "execution_count": 91,
   "id": "cbadff58",
   "metadata": {},
   "outputs": [
    {
     "name": "stdout",
     "output_type": "stream",
     "text": [
      "A constructer\n"
     ]
    }
   ],
   "source": [
    "a = A(\"white\")"
   ]
  },
  {
   "cell_type": "code",
   "execution_count": 92,
   "id": "2a30e54e",
   "metadata": {},
   "outputs": [
    {
     "data": {
      "text/plain": [
       "'white'"
      ]
     },
     "execution_count": 92,
     "metadata": {},
     "output_type": "execute_result"
    }
   ],
   "source": [
    "a.appear"
   ]
  },
  {
   "cell_type": "code",
   "execution_count": 94,
   "id": "b898cfae",
   "metadata": {},
   "outputs": [
    {
     "name": "stdout",
     "output_type": "stream",
     "text": [
      "Constructor B \n"
     ]
    }
   ],
   "source": [
    "b = B(\"red\")"
   ]
  },
  {
   "cell_type": "code",
   "execution_count": 95,
   "id": "cabaab2e",
   "metadata": {},
   "outputs": [
    {
     "data": {
      "text/plain": [
       "'red'"
      ]
     },
     "execution_count": 95,
     "metadata": {},
     "output_type": "execute_result"
    }
   ],
   "source": [
    "b.appear"
   ]
  },
  {
   "cell_type": "code",
   "execution_count": null,
   "id": "4da7853d",
   "metadata": {},
   "outputs": [],
   "source": []
  },
  {
   "cell_type": "code",
   "execution_count": null,
   "id": "17b19189",
   "metadata": {},
   "outputs": [],
   "source": []
  },
  {
   "cell_type": "code",
   "execution_count": null,
   "id": "e919665d",
   "metadata": {},
   "outputs": [],
   "source": []
  },
  {
   "cell_type": "code",
   "execution_count": 99,
   "id": "666bb8d2",
   "metadata": {},
   "outputs": [],
   "source": [
    "class A:\n",
    "    \n",
    "    def __init__(self):\n",
    "        print(\"A constructer\")\n",
    "        \n",
    "    def feature1(self):\n",
    "        print(\"parent class Feature 1\")\n",
    "    \n",
    "    def feature2(self):\n",
    "        print(\"parent class Feature 2\")\n",
    "\n",
    "class B(A):\n",
    "    \n",
    "    def __init__(self):\n",
    "        super().__init__()  # Parent class constructor using super\n",
    "        \n",
    "        print(\"Constructor B \")\n",
    "    \n",
    "    def feature3(self):\n",
    "        print(\"child feature 3\")\n",
    "    \n",
    "    def feature4(self):\n",
    "        print(\"child feature 4\")\n",
    "        "
   ]
  },
  {
   "cell_type": "code",
   "execution_count": 100,
   "id": "89627ba3",
   "metadata": {},
   "outputs": [
    {
     "name": "stdout",
     "output_type": "stream",
     "text": [
      "A constructer\n"
     ]
    }
   ],
   "source": [
    "a = A()"
   ]
  },
  {
   "cell_type": "code",
   "execution_count": 101,
   "id": "bbc1e637",
   "metadata": {},
   "outputs": [
    {
     "name": "stdout",
     "output_type": "stream",
     "text": [
      "A constructer\n",
      "Constructor B \n"
     ]
    }
   ],
   "source": [
    "b = B()"
   ]
  },
  {
   "cell_type": "code",
   "execution_count": null,
   "id": "0db9665c",
   "metadata": {},
   "outputs": [],
   "source": []
  },
  {
   "cell_type": "code",
   "execution_count": 3,
   "metadata": {},
   "outputs": [
    {
     "name": "stdout",
     "output_type": "stream",
     "text": [
      "ClassB Feature 1\n"
     ]
    }
   ],
   "source": [
    "class A:\n",
    "    def fea1(self):\n",
    "        print(\"ClassA Feature 1\")\n",
    "    def fea2(self):\n",
    "        print(\"Class A feature2\")\n",
    "\n",
    "class B:\n",
    "    def fea1(self):\n",
    "        print(\"ClassB Feature 1\")\n",
    "    \n",
    "    def fea4(self):\n",
    "        print(\"Class B Feature 4\") \n",
    "\n",
    "\n",
    "class C(A,B):\n",
    "    def fea5(self):\n",
    "        print(\"Clas c Feature 5\")\n",
    "\n",
    "c = C()\n",
    "c.fea1()\n"
   ]
  },
  {
   "cell_type": "code",
   "execution_count": null,
   "metadata": {},
   "outputs": [],
   "source": []
  }
 ],
 "metadata": {
  "kernelspec": {
   "display_name": "Python 3 (ipykernel)",
   "language": "python",
   "name": "python3"
  },
  "language_info": {
   "codemirror_mode": {
    "name": "ipython",
    "version": 3
   },
   "file_extension": ".py",
   "mimetype": "text/x-python",
   "name": "python",
   "nbconvert_exporter": "python",
   "pygments_lexer": "ipython3",
   "version": "3.11.3"
  }
 },
 "nbformat": 4,
 "nbformat_minor": 5
}
