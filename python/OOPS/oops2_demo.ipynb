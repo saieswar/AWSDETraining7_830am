{
 "cells": [
  {
   "cell_type": "code",
   "execution_count": 6,
   "id": "9c71e44e",
   "metadata": {},
   "outputs": [],
   "source": [
    "# Multiple Inheritance\n",
    "\n",
    "class A:\n",
    "    \n",
    "    def fe1(self):\n",
    "        print(\"class A - Feature1\")\n",
    "    \n",
    "    def fe2(self):\n",
    "        print(\"Class A - feature 2\")\n",
    "\n",
    "class B:\n",
    "    \n",
    "    def fe1(self):\n",
    "        print(\"class B - Feature1\")\n",
    "    \n",
    "    def fe4(self):\n",
    "        print(\"Class B - feature 4\")\n",
    "\n",
    "class C(B,A):              #MRO - Method resolution order\n",
    "    def fe5(self):\n",
    "        print(\"Class c - feature 5\")\n",
    "\n",
    "c1 = C()"
   ]
  },
  {
   "cell_type": "code",
   "execution_count": 7,
   "id": "4ebada7c",
   "metadata": {},
   "outputs": [
    {
     "name": "stdout",
     "output_type": "stream",
     "text": [
      "Class c - feature 5\n",
      "class B - Feature1\n"
     ]
    }
   ],
   "source": [
    "c1.fe5()\n",
    "c1.fe1()"
   ]
  },
  {
   "cell_type": "code",
   "execution_count": 8,
   "id": "ab98377d",
   "metadata": {},
   "outputs": [
    {
     "name": "stdout",
     "output_type": "stream",
     "text": [
      "Class A - feature 2\n"
     ]
    }
   ],
   "source": [
    "c1.fe2()"
   ]
  },
  {
   "cell_type": "code",
   "execution_count": null,
   "id": "85a104ea",
   "metadata": {},
   "outputs": [],
   "source": []
  },
  {
   "cell_type": "code",
   "execution_count": 13,
   "id": "2bbbdb50",
   "metadata": {},
   "outputs": [
    {
     "name": "stdout",
     "output_type": "stream",
     "text": [
      "7\n",
      "10.2\n",
      "SaiKar\n"
     ]
    }
   ],
   "source": [
    "#polymorphism\n",
    "\n",
    "print(4+3)\n",
    "print(5.1+5.1)\n",
    "print(\"Sai\" + \"Kar\")"
   ]
  },
  {
   "cell_type": "code",
   "execution_count": null,
   "id": "5c3a02f4",
   "metadata": {},
   "outputs": [],
   "source": []
  },
  {
   "cell_type": "code",
   "execution_count": 16,
   "id": "a67facf1",
   "metadata": {},
   "outputs": [],
   "source": [
    "class Tomato(): \n",
    "     def color(self):\n",
    "       print(\"Red\") \n",
    "    \n",
    "class Apple(): \n",
    "     def color(self): \n",
    "       print(\"Green\") \n",
    "\n",
    "def fruit(obj):\n",
    "    obj.color()\n",
    "    \n",
    "ob_tomo = Tomato()\n",
    "ob_apple = Apple()"
   ]
  },
  {
   "cell_type": "code",
   "execution_count": 17,
   "id": "c5e2db14",
   "metadata": {},
   "outputs": [
    {
     "name": "stdout",
     "output_type": "stream",
     "text": [
      "Red\n"
     ]
    }
   ],
   "source": [
    "fruit(ob_tomo)"
   ]
  },
  {
   "cell_type": "code",
   "execution_count": 18,
   "id": "4e9ea0d6",
   "metadata": {},
   "outputs": [
    {
     "name": "stdout",
     "output_type": "stream",
     "text": [
      "Green\n"
     ]
    }
   ],
   "source": [
    "fruit(ob_apple)"
   ]
  },
  {
   "cell_type": "code",
   "execution_count": null,
   "id": "d57acf01",
   "metadata": {},
   "outputs": [],
   "source": []
  },
  {
   "cell_type": "code",
   "execution_count": 20,
   "id": "8d9b8dd9",
   "metadata": {},
   "outputs": [
    {
     "name": "stdout",
     "output_type": "stream",
     "text": [
      "3\n",
      "4\n",
      "2\n"
     ]
    }
   ],
   "source": [
    "print(len(\"sai\"))\n",
    "\n",
    "print(len([\"Python\", \"Java\", \"C\", \"Hadoop\"]))\n",
    "print(len({\"Name\": \"John\", \"Address\": \"Nepal\"}))"
   ]
  },
  {
   "cell_type": "code",
   "execution_count": null,
   "id": "b0231fe7",
   "metadata": {},
   "outputs": [],
   "source": []
  },
  {
   "cell_type": "code",
   "execution_count": null,
   "id": "bfce8374",
   "metadata": {},
   "outputs": [],
   "source": []
  },
  {
   "cell_type": "code",
   "execution_count": 27,
   "id": "c91e0eab",
   "metadata": {},
   "outputs": [],
   "source": [
    "class Bird:\n",
    "     def intro(self):\n",
    "       print(\"There are different types of birds\")\n",
    " \n",
    "     def flight(self):\n",
    "       print(\"Most of the birds can fly but some cannot\")\n",
    "    \n",
    "class parrot(Bird):\n",
    "     def flight(self):\n",
    "       print(\"Parrots can fly\")\n",
    "     \n",
    "obj_bird = Bird()\n",
    "obj_parr = parrot()"
   ]
  },
  {
   "cell_type": "code",
   "execution_count": 28,
   "id": "1f8a7e46",
   "metadata": {},
   "outputs": [
    {
     "name": "stdout",
     "output_type": "stream",
     "text": [
      "Most of the birds can fly but some cannot\n"
     ]
    }
   ],
   "source": [
    "obj_bird.flight()"
   ]
  },
  {
   "cell_type": "code",
   "execution_count": 29,
   "id": "822eb684",
   "metadata": {},
   "outputs": [
    {
     "name": "stdout",
     "output_type": "stream",
     "text": [
      "Parrots can fly\n"
     ]
    }
   ],
   "source": [
    "obj_parr.flight()"
   ]
  },
  {
   "cell_type": "code",
   "execution_count": null,
   "id": "89b81315",
   "metadata": {},
   "outputs": [],
   "source": []
  },
  {
   "cell_type": "code",
   "execution_count": null,
   "id": "9901db3c",
   "metadata": {},
   "outputs": [],
   "source": []
  },
  {
   "cell_type": "code",
   "execution_count": 37,
   "id": "1d4ad2eb",
   "metadata": {},
   "outputs": [],
   "source": [
    "# Encapsulation  - Data Hiding - securtiy\n",
    "# Access Modifier\n",
    "    #- public  a = 3\n",
    "    #- private __a\n",
    "    # - Protected _a\n",
    "    \n",
    "class A:\n",
    "    def __init__(self, name,salary):\n",
    "        self.name = name  #public\n",
    "        self.__salary = salary # private -> accesable to its own class\n",
    "    \n",
    "    def get_details(self):                   #getter method\n",
    "        print(\"Name\", self.name)\n",
    "        print(\"salary\", self.__salary)\n",
    "\n",
    "a = A(\"sai\", 30000)\n"
   ]
  },
  {
   "cell_type": "code",
   "execution_count": 38,
   "id": "cfa65bf1",
   "metadata": {},
   "outputs": [
    {
     "data": {
      "text/plain": [
       "'sai'"
      ]
     },
     "execution_count": 38,
     "metadata": {},
     "output_type": "execute_result"
    }
   ],
   "source": [
    "a.name"
   ]
  },
  {
   "cell_type": "code",
   "execution_count": null,
   "id": "b54dbdbd",
   "metadata": {},
   "outputs": [],
   "source": [
    "a.name = \"sai\""
   ]
  },
  {
   "cell_type": "code",
   "execution_count": 39,
   "id": "7b6b4294",
   "metadata": {},
   "outputs": [
    {
     "ename": "AttributeError",
     "evalue": "'A' object has no attribute '__salary'",
     "output_type": "error",
     "traceback": [
      "\u001b[1;31m---------------------------------------------------------------------------\u001b[0m",
      "\u001b[1;31mAttributeError\u001b[0m                            Traceback (most recent call last)",
      "Cell \u001b[1;32mIn[39], line 1\u001b[0m\n\u001b[1;32m----> 1\u001b[0m \u001b[43ma\u001b[49m\u001b[38;5;241;43m.\u001b[39;49m\u001b[43m__salary\u001b[49m\n",
      "\u001b[1;31mAttributeError\u001b[0m: 'A' object has no attribute '__salary'"
     ]
    }
   ],
   "source": [
    "a.__salary"
   ]
  },
  {
   "cell_type": "code",
   "execution_count": 40,
   "id": "21b7f3c6",
   "metadata": {},
   "outputs": [
    {
     "name": "stdout",
     "output_type": "stream",
     "text": [
      "Name sai\n",
      "salary 30000\n"
     ]
    }
   ],
   "source": [
    "a.get_details()"
   ]
  },
  {
   "cell_type": "code",
   "execution_count": null,
   "id": "5cef205a",
   "metadata": {},
   "outputs": [],
   "source": []
  },
  {
   "cell_type": "code",
   "execution_count": 48,
   "id": "7c96e6ad",
   "metadata": {},
   "outputs": [],
   "source": [
    "class A:\n",
    "    def __init__(self):\n",
    "        self._age = \"sai\"        # protected -> can be accessed inside sub/child class\n",
    "        self.__salary = 35000\n",
    "    \n",
    "class B(A):\n",
    "    def __init__(self):\n",
    "        super().__init__()\n",
    "        print(self._age)\n",
    "        "
   ]
  },
  {
   "cell_type": "code",
   "execution_count": 49,
   "id": "8574d93d",
   "metadata": {},
   "outputs": [
    {
     "name": "stdout",
     "output_type": "stream",
     "text": [
      "sai\n"
     ]
    },
    {
     "data": {
      "text/plain": [
       "'sai'"
      ]
     },
     "execution_count": 49,
     "metadata": {},
     "output_type": "execute_result"
    }
   ],
   "source": [
    "b = B()\n",
    "b._age"
   ]
  },
  {
   "cell_type": "code",
   "execution_count": 50,
   "id": "6a16f2fb",
   "metadata": {},
   "outputs": [
    {
     "ename": "AttributeError",
     "evalue": "'B' object has no attribute '__salary'",
     "output_type": "error",
     "traceback": [
      "\u001b[1;31m---------------------------------------------------------------------------\u001b[0m",
      "\u001b[1;31mAttributeError\u001b[0m                            Traceback (most recent call last)",
      "Cell \u001b[1;32mIn[50], line 1\u001b[0m\n\u001b[1;32m----> 1\u001b[0m \u001b[43mb\u001b[49m\u001b[38;5;241;43m.\u001b[39;49m\u001b[43m__salary\u001b[49m\n",
      "\u001b[1;31mAttributeError\u001b[0m: 'B' object has no attribute '__salary'"
     ]
    }
   ],
   "source": [
    "b.__salary"
   ]
  },
  {
   "cell_type": "code",
   "execution_count": null,
   "id": "a04bc47d",
   "metadata": {},
   "outputs": [],
   "source": []
  },
  {
   "cell_type": "code",
   "execution_count": null,
   "id": "8c6db7a7",
   "metadata": {},
   "outputs": [],
   "source": []
  },
  {
   "cell_type": "code",
   "execution_count": null,
   "id": "74a05ec7",
   "metadata": {},
   "outputs": [],
   "source": []
  },
  {
   "cell_type": "code",
   "execution_count": null,
   "id": "6ccbcc54",
   "metadata": {},
   "outputs": [],
   "source": []
  }
 ],
 "metadata": {
  "kernelspec": {
   "display_name": "Python 3 (ipykernel)",
   "language": "python",
   "name": "python3"
  },
  "language_info": {
   "codemirror_mode": {
    "name": "ipython",
    "version": 3
   },
   "file_extension": ".py",
   "mimetype": "text/x-python",
   "name": "python",
   "nbconvert_exporter": "python",
   "pygments_lexer": "ipython3",
   "version": "3.11.3"
  }
 },
 "nbformat": 4,
 "nbformat_minor": 5
}
