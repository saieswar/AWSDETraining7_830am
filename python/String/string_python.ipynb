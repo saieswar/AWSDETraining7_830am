{
 "cells": [
  {
   "cell_type": "code",
   "execution_count": 7,
   "id": "3c74eb7b",
   "metadata": {},
   "outputs": [],
   "source": [
    "s1 = \"Double quo\""
   ]
  },
  {
   "cell_type": "code",
   "execution_count": 8,
   "id": "04988a78",
   "metadata": {},
   "outputs": [],
   "source": [
    "s2 = 'single'"
   ]
  },
  {
   "cell_type": "code",
   "execution_count": 9,
   "id": "f5ef8a81",
   "metadata": {},
   "outputs": [],
   "source": [
    "s3 = \"\"\"triple double\"\"\""
   ]
  },
  {
   "cell_type": "code",
   "execution_count": 10,
   "id": "3f7f72e8",
   "metadata": {},
   "outputs": [],
   "source": [
    "s4='''triple single'''"
   ]
  },
  {
   "cell_type": "code",
   "execution_count": 48,
   "id": "89b7e680",
   "metadata": {},
   "outputs": [
    {
     "data": {
      "text/plain": [
       "\"hi, how is your's health\""
      ]
     },
     "execution_count": 48,
     "metadata": {},
     "output_type": "execute_result"
    }
   ],
   "source": [
    "s5 = \"hi, how is your's health\"\n",
    "s5"
   ]
  },
  {
   "cell_type": "code",
   "execution_count": 51,
   "id": "17eafdd7",
   "metadata": {},
   "outputs": [
    {
     "data": {
      "text/plain": [
       "'hi, why you are saying hi\" to me'"
      ]
     },
     "execution_count": 51,
     "metadata": {},
     "output_type": "execute_result"
    }
   ],
   "source": [
    "s6 = 'hi, why you are saying hi\" to me'\n",
    "s6"
   ]
  },
  {
   "cell_type": "code",
   "execution_count": 11,
   "id": "3068f902",
   "metadata": {},
   "outputs": [
    {
     "name": "stdout",
     "output_type": "stream",
     "text": [
      "Double quo single triple double triple single\n"
     ]
    }
   ],
   "source": [
    "print(s1, s2, s3, s4)"
   ]
  },
  {
   "cell_type": "code",
   "execution_count": 12,
   "id": "211f8c21",
   "metadata": {},
   "outputs": [
    {
     "data": {
      "text/plain": [
       "'Double quo'"
      ]
     },
     "execution_count": 12,
     "metadata": {},
     "output_type": "execute_result"
    }
   ],
   "source": [
    "s1"
   ]
  },
  {
   "cell_type": "code",
   "execution_count": 13,
   "id": "df6738b3",
   "metadata": {},
   "outputs": [
    {
     "data": {
      "text/plain": [
       "'D'"
      ]
     },
     "execution_count": 13,
     "metadata": {},
     "output_type": "execute_result"
    }
   ],
   "source": [
    "s1[0]"
   ]
  },
  {
   "cell_type": "code",
   "execution_count": 14,
   "id": "d4b7e914",
   "metadata": {},
   "outputs": [
    {
     "data": {
      "text/plain": [
       "'l'"
      ]
     },
     "execution_count": 14,
     "metadata": {},
     "output_type": "execute_result"
    }
   ],
   "source": [
    "s1[4]"
   ]
  },
  {
   "cell_type": "code",
   "execution_count": 15,
   "id": "d20a5854",
   "metadata": {},
   "outputs": [
    {
     "data": {
      "text/plain": [
       "'g'"
      ]
     },
     "execution_count": 15,
     "metadata": {},
     "output_type": "execute_result"
    }
   ],
   "source": [
    "s2[3]"
   ]
  },
  {
   "cell_type": "code",
   "execution_count": 17,
   "id": "a9d8d05f",
   "metadata": {},
   "outputs": [
    {
     "data": {
      "text/plain": [
       "'p'"
      ]
     },
     "execution_count": 17,
     "metadata": {},
     "output_type": "execute_result"
    }
   ],
   "source": [
    "s3[3]"
   ]
  },
  {
   "cell_type": "code",
   "execution_count": 18,
   "id": "0c3bcb58",
   "metadata": {},
   "outputs": [
    {
     "data": {
      "text/plain": [
       "'Double quo'"
      ]
     },
     "execution_count": 18,
     "metadata": {},
     "output_type": "execute_result"
    }
   ],
   "source": [
    "s1"
   ]
  },
  {
   "cell_type": "code",
   "execution_count": 19,
   "id": "5c630fe2",
   "metadata": {},
   "outputs": [
    {
     "ename": "IndexError",
     "evalue": "string index out of range",
     "output_type": "error",
     "traceback": [
      "\u001b[1;31m---------------------------------------------------------------------------\u001b[0m",
      "\u001b[1;31mIndexError\u001b[0m                                Traceback (most recent call last)",
      "Cell \u001b[1;32mIn[19], line 1\u001b[0m\n\u001b[1;32m----> 1\u001b[0m \u001b[43ms1\u001b[49m\u001b[43m[\u001b[49m\u001b[38;5;241;43m120\u001b[39;49m\u001b[43m]\u001b[49m\n",
      "\u001b[1;31mIndexError\u001b[0m: string index out of range"
     ]
    }
   ],
   "source": [
    "s1[120]"
   ]
  },
  {
   "cell_type": "code",
   "execution_count": 20,
   "id": "e8a1ee6a",
   "metadata": {},
   "outputs": [
    {
     "data": {
      "text/plain": [
       "'Double quo'"
      ]
     },
     "execution_count": 20,
     "metadata": {},
     "output_type": "execute_result"
    }
   ],
   "source": [
    "s1\n"
   ]
  },
  {
   "cell_type": "code",
   "execution_count": 22,
   "id": "9bec4460",
   "metadata": {},
   "outputs": [
    {
     "data": {
      "text/plain": [
       "'o'"
      ]
     },
     "execution_count": 22,
     "metadata": {},
     "output_type": "execute_result"
    }
   ],
   "source": [
    "s1[9]"
   ]
  },
  {
   "cell_type": "code",
   "execution_count": 23,
   "id": "86314613",
   "metadata": {},
   "outputs": [
    {
     "data": {
      "text/plain": [
       "'o'"
      ]
     },
     "execution_count": 23,
     "metadata": {},
     "output_type": "execute_result"
    }
   ],
   "source": [
    "s1[-1]"
   ]
  },
  {
   "cell_type": "code",
   "execution_count": 24,
   "id": "43dad08b",
   "metadata": {},
   "outputs": [
    {
     "data": {
      "text/plain": [
       "'u'"
      ]
     },
     "execution_count": 24,
     "metadata": {},
     "output_type": "execute_result"
    }
   ],
   "source": [
    "s1[-2]"
   ]
  },
  {
   "cell_type": "code",
   "execution_count": 25,
   "id": "9d34e627",
   "metadata": {},
   "outputs": [],
   "source": [
    "#scicing\n",
    "s1 = \"Karteek\"\n"
   ]
  },
  {
   "cell_type": "code",
   "execution_count": 26,
   "id": "d360cbd4",
   "metadata": {},
   "outputs": [
    {
     "data": {
      "text/plain": [
       "'rtee'"
      ]
     },
     "execution_count": 26,
     "metadata": {},
     "output_type": "execute_result"
    }
   ],
   "source": [
    "s1[2:6] #lower bound, Exculde upper bound"
   ]
  },
  {
   "cell_type": "code",
   "execution_count": 27,
   "id": "9fa332d1",
   "metadata": {},
   "outputs": [
    {
     "data": {
      "text/plain": [
       "'ai eswa'"
      ]
     },
     "execution_count": 27,
     "metadata": {},
     "output_type": "execute_result"
    }
   ],
   "source": [
    "s2 = \"sai eswar\"\n",
    "s2[1:8]"
   ]
  },
  {
   "cell_type": "code",
   "execution_count": 28,
   "id": "f9749259",
   "metadata": {},
   "outputs": [
    {
     "data": {
      "text/plain": [
       "'sai eswar'"
      ]
     },
     "execution_count": 28,
     "metadata": {},
     "output_type": "execute_result"
    }
   ],
   "source": [
    "s2[::]"
   ]
  },
  {
   "cell_type": "code",
   "execution_count": 29,
   "id": "c05900dc",
   "metadata": {},
   "outputs": [
    {
     "data": {
      "text/plain": [
       "'Karteek'"
      ]
     },
     "execution_count": 29,
     "metadata": {},
     "output_type": "execute_result"
    }
   ],
   "source": [
    "s1"
   ]
  },
  {
   "cell_type": "code",
   "execution_count": 30,
   "id": "836f3238",
   "metadata": {},
   "outputs": [
    {
     "data": {
      "text/plain": [
       "'Krek'"
      ]
     },
     "execution_count": 30,
     "metadata": {},
     "output_type": "execute_result"
    }
   ],
   "source": [
    "s1[::2]"
   ]
  },
  {
   "cell_type": "code",
   "execution_count": 33,
   "id": "1fb954c7",
   "metadata": {},
   "outputs": [
    {
     "data": {
      "text/plain": [
       "'rek'"
      ]
     },
     "execution_count": 33,
     "metadata": {},
     "output_type": "execute_result"
    }
   ],
   "source": [
    "s1[2:71:2] #slcicing operator no index error"
   ]
  },
  {
   "cell_type": "code",
   "execution_count": 34,
   "id": "4c5a015a",
   "metadata": {},
   "outputs": [
    {
     "ename": "IndexError",
     "evalue": "string index out of range",
     "output_type": "error",
     "traceback": [
      "\u001b[1;31m---------------------------------------------------------------------------\u001b[0m",
      "\u001b[1;31mIndexError\u001b[0m                                Traceback (most recent call last)",
      "Cell \u001b[1;32mIn[34], line 1\u001b[0m\n\u001b[1;32m----> 1\u001b[0m \u001b[43ms1\u001b[49m\u001b[43m[\u001b[49m\u001b[38;5;241;43m323\u001b[39;49m\u001b[43m]\u001b[49m\n",
      "\u001b[1;31mIndexError\u001b[0m: string index out of range"
     ]
    }
   ],
   "source": [
    "s1[323]"
   ]
  },
  {
   "cell_type": "code",
   "execution_count": 35,
   "id": "934d7978",
   "metadata": {},
   "outputs": [
    {
     "data": {
      "text/plain": [
       "'Karteek'"
      ]
     },
     "execution_count": 35,
     "metadata": {},
     "output_type": "execute_result"
    }
   ],
   "source": [
    "s1"
   ]
  },
  {
   "cell_type": "code",
   "execution_count": 36,
   "id": "e68a81d9",
   "metadata": {},
   "outputs": [
    {
     "data": {
      "text/plain": [
       "'keetraK'"
      ]
     },
     "execution_count": 36,
     "metadata": {},
     "output_type": "execute_result"
    }
   ],
   "source": [
    "s1[::-1]"
   ]
  },
  {
   "cell_type": "code",
   "execution_count": 37,
   "id": "98a6f89e",
   "metadata": {},
   "outputs": [
    {
     "data": {
      "text/plain": [
       "'sai eswar'"
      ]
     },
     "execution_count": 37,
     "metadata": {},
     "output_type": "execute_result"
    }
   ],
   "source": [
    "s2"
   ]
  },
  {
   "cell_type": "code",
   "execution_count": 41,
   "id": "07c5d7da",
   "metadata": {},
   "outputs": [
    {
     "data": {
      "text/plain": [
       "'se ia'"
      ]
     },
     "execution_count": 41,
     "metadata": {},
     "output_type": "execute_result"
    }
   ],
   "source": [
    "s2[5:0: -1]"
   ]
  },
  {
   "cell_type": "code",
   "execution_count": 42,
   "id": "ff96285c",
   "metadata": {},
   "outputs": [
    {
     "data": {
      "text/plain": [
       "'Karteek'"
      ]
     },
     "execution_count": 42,
     "metadata": {},
     "output_type": "execute_result"
    }
   ],
   "source": [
    "s1"
   ]
  },
  {
   "cell_type": "code",
   "execution_count": 43,
   "id": "5dca7bd6",
   "metadata": {},
   "outputs": [
    {
     "data": {
      "text/plain": [
       "'Kart'"
      ]
     },
     "execution_count": 43,
     "metadata": {},
     "output_type": "execute_result"
    }
   ],
   "source": [
    "s1[:-3]"
   ]
  },
  {
   "cell_type": "code",
   "execution_count": 45,
   "id": "f82e48c8",
   "metadata": {},
   "outputs": [
    {
     "data": {
      "text/plain": [
       "'Karte'"
      ]
     },
     "execution_count": 45,
     "metadata": {},
     "output_type": "execute_result"
    }
   ],
   "source": [
    "s1[:-2]"
   ]
  },
  {
   "cell_type": "code",
   "execution_count": 52,
   "id": "5bc618df",
   "metadata": {},
   "outputs": [
    {
     "data": {
      "text/plain": [
       "'Karteek'"
      ]
     },
     "execution_count": 52,
     "metadata": {},
     "output_type": "execute_result"
    }
   ],
   "source": [
    "#methods/funcion on string\n",
    "s1"
   ]
  },
  {
   "cell_type": "code",
   "execution_count": 53,
   "id": "5fd95d7a",
   "metadata": {},
   "outputs": [
    {
     "data": {
      "text/plain": [
       "7"
      ]
     },
     "execution_count": 53,
     "metadata": {},
     "output_type": "execute_result"
    }
   ],
   "source": [
    "len(s1)\n"
   ]
  },
  {
   "cell_type": "code",
   "execution_count": 54,
   "id": "3771bea8",
   "metadata": {},
   "outputs": [
    {
     "data": {
      "text/plain": [
       "str"
      ]
     },
     "execution_count": 54,
     "metadata": {},
     "output_type": "execute_result"
    }
   ],
   "source": [
    "type(s1)"
   ]
  },
  {
   "cell_type": "code",
   "execution_count": 55,
   "id": "690fd062",
   "metadata": {},
   "outputs": [
    {
     "data": {
      "text/plain": [
       "'KARTEEK'"
      ]
     },
     "execution_count": 55,
     "metadata": {},
     "output_type": "execute_result"
    }
   ],
   "source": [
    "s1.upper()"
   ]
  },
  {
   "cell_type": "code",
   "execution_count": 56,
   "id": "15554e02",
   "metadata": {},
   "outputs": [
    {
     "data": {
      "text/plain": [
       "'Karteek'"
      ]
     },
     "execution_count": 56,
     "metadata": {},
     "output_type": "execute_result"
    }
   ],
   "source": [
    "s1"
   ]
  },
  {
   "cell_type": "code",
   "execution_count": 57,
   "id": "e8010eb8",
   "metadata": {},
   "outputs": [
    {
     "data": {
      "text/plain": [
       "False"
      ]
     },
     "execution_count": 57,
     "metadata": {},
     "output_type": "execute_result"
    }
   ],
   "source": [
    "s1.startswith(\"s\")"
   ]
  },
  {
   "cell_type": "code",
   "execution_count": 59,
   "id": "38dd5bb3",
   "metadata": {},
   "outputs": [
    {
     "data": {
      "text/plain": [
       "True"
      ]
     },
     "execution_count": 59,
     "metadata": {},
     "output_type": "execute_result"
    }
   ],
   "source": [
    "s1.startswith(\"K\")"
   ]
  },
  {
   "cell_type": "code",
   "execution_count": 60,
   "id": "86b90253",
   "metadata": {},
   "outputs": [
    {
     "data": {
      "text/plain": [
       "'Karteek'"
      ]
     },
     "execution_count": 60,
     "metadata": {},
     "output_type": "execute_result"
    }
   ],
   "source": [
    "s1"
   ]
  },
  {
   "cell_type": "code",
   "execution_count": 61,
   "id": "c20db13f",
   "metadata": {},
   "outputs": [
    {
     "data": {
      "text/plain": [
       "2"
      ]
     },
     "execution_count": 61,
     "metadata": {},
     "output_type": "execute_result"
    }
   ],
   "source": [
    "s1.find(\"r\")"
   ]
  },
  {
   "cell_type": "code",
   "execution_count": 62,
   "id": "caf7cb1a",
   "metadata": {},
   "outputs": [
    {
     "data": {
      "text/plain": [
       "4"
      ]
     },
     "execution_count": 62,
     "metadata": {},
     "output_type": "execute_result"
    }
   ],
   "source": [
    "s1.find(\"e\")"
   ]
  },
  {
   "cell_type": "code",
   "execution_count": 63,
   "id": "e163569c",
   "metadata": {},
   "outputs": [
    {
     "data": {
      "text/plain": [
       "'Karteek'"
      ]
     },
     "execution_count": 63,
     "metadata": {},
     "output_type": "execute_result"
    }
   ],
   "source": [
    "s1"
   ]
  },
  {
   "cell_type": "code",
   "execution_count": 64,
   "id": "3ade9402",
   "metadata": {},
   "outputs": [
    {
     "data": {
      "text/plain": [
       "'Kartiik'"
      ]
     },
     "execution_count": 64,
     "metadata": {},
     "output_type": "execute_result"
    }
   ],
   "source": [
    "s1.replace(\"e\", \"i\")"
   ]
  },
  {
   "cell_type": "code",
   "execution_count": 66,
   "id": "fd108f4f",
   "metadata": {},
   "outputs": [
    {
     "data": {
      "text/plain": [
       "['hdws', 'frkhnkjds', 'good', 'dw', 'w']"
      ]
     },
     "execution_count": 66,
     "metadata": {},
     "output_type": "execute_result"
    }
   ],
   "source": [
    "\"hdws,frkhnkjds,good,dw,w\".split(\",\") #*************"
   ]
  },
  {
   "cell_type": "code",
   "execution_count": 67,
   "id": "f212b92b",
   "metadata": {},
   "outputs": [
    {
     "data": {
      "text/plain": [
       "True"
      ]
     },
     "execution_count": 67,
     "metadata": {},
     "output_type": "execute_result"
    }
   ],
   "source": [
    "\"sai2\".isalnum()"
   ]
  },
  {
   "cell_type": "code",
   "execution_count": 70,
   "id": "9cb046ad",
   "metadata": {},
   "outputs": [
    {
     "data": {
      "text/plain": [
       "False"
      ]
     },
     "execution_count": 70,
     "metadata": {},
     "output_type": "execute_result"
    }
   ],
   "source": [
    "\"sai  \".isalpha()"
   ]
  },
  {
   "cell_type": "code",
   "execution_count": 73,
   "id": "e01b23fb",
   "metadata": {},
   "outputs": [
    {
     "data": {
      "text/plain": [
       "1"
      ]
     },
     "execution_count": 73,
     "metadata": {},
     "output_type": "execute_result"
    }
   ],
   "source": [
    "\"SAieswa   r\".count(\"a\")"
   ]
  },
  {
   "cell_type": "code",
   "execution_count": 75,
   "id": "2aedfe73",
   "metadata": {},
   "outputs": [
    {
     "data": {
      "text/plain": [
       "13"
      ]
     },
     "execution_count": 75,
     "metadata": {},
     "output_type": "execute_result"
    }
   ],
   "source": [
    "len(\"sai         i\")"
   ]
  },
  {
   "cell_type": "code",
   "execution_count": null,
   "id": "a55cef0e",
   "metadata": {},
   "outputs": [],
   "source": []
  }
 ],
 "metadata": {
  "kernelspec": {
   "display_name": "Python 3 (ipykernel)",
   "language": "python",
   "name": "python3"
  },
  "language_info": {
   "codemirror_mode": {
    "name": "ipython",
    "version": 3
   },
   "file_extension": ".py",
   "mimetype": "text/x-python",
   "name": "python",
   "nbconvert_exporter": "python",
   "pygments_lexer": "ipython3",
   "version": "3.11.4"
  }
 },
 "nbformat": 4,
 "nbformat_minor": 5
}
