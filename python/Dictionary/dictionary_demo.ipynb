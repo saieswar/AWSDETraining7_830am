{
 "cells": [
  {
   "cell_type": "code",
   "execution_count": 1,
   "id": "10942339",
   "metadata": {},
   "outputs": [],
   "source": [
    "#Dictionary  Creation\n",
    "d = dict()"
   ]
  },
  {
   "cell_type": "code",
   "execution_count": 2,
   "id": "86808235",
   "metadata": {},
   "outputs": [
    {
     "data": {
      "text/plain": [
       "dict"
      ]
     },
     "execution_count": 2,
     "metadata": {},
     "output_type": "execute_result"
    }
   ],
   "source": [
    "type(d)"
   ]
  },
  {
   "cell_type": "code",
   "execution_count": 5,
   "id": "3e53820e",
   "metadata": {},
   "outputs": [],
   "source": [
    "d1 = {}"
   ]
  },
  {
   "cell_type": "code",
   "execution_count": 6,
   "id": "6a4e96c2",
   "metadata": {},
   "outputs": [
    {
     "data": {
      "text/plain": [
       "dict"
      ]
     },
     "execution_count": 6,
     "metadata": {},
     "output_type": "execute_result"
    }
   ],
   "source": [
    "type(d1)"
   ]
  },
  {
   "cell_type": "code",
   "execution_count": 7,
   "id": "6ad1cf17",
   "metadata": {},
   "outputs": [],
   "source": [
    "d2 = {\"name\": \"sai\", \"email\": \"sai@email.com\", \"age\": 29, \"height\": 5.8} #key, value "
   ]
  },
  {
   "cell_type": "code",
   "execution_count": 8,
   "id": "87f34a15",
   "metadata": {},
   "outputs": [],
   "source": [
    "l = [\"sai\", 7.8,\"sai@email\"]"
   ]
  },
  {
   "cell_type": "code",
   "execution_count": 29,
   "id": "62801a25",
   "metadata": {},
   "outputs": [
    {
     "data": {
      "text/plain": [
       "['sai', 5.8, 'sai@email']"
      ]
     },
     "execution_count": 29,
     "metadata": {},
     "output_type": "execute_result"
    }
   ],
   "source": [
    "l[1] = 5.8\n",
    "l"
   ]
  },
  {
   "cell_type": "code",
   "execution_count": 10,
   "id": "b8637dd4",
   "metadata": {},
   "outputs": [
    {
     "data": {
      "text/plain": [
       "{'name': 'sai', 'email': 'sai@email.com', 'age': 29, 'height': 5.8}"
      ]
     },
     "execution_count": 10,
     "metadata": {},
     "output_type": "execute_result"
    }
   ],
   "source": [
    "d2"
   ]
  },
  {
   "cell_type": "code",
   "execution_count": 12,
   "id": "5b150644",
   "metadata": {},
   "outputs": [
    {
     "data": {
      "text/plain": [
       "'sai@email.com'"
      ]
     },
     "execution_count": 12,
     "metadata": {},
     "output_type": "execute_result"
    }
   ],
   "source": [
    "d2['email']"
   ]
  },
  {
   "cell_type": "code",
   "execution_count": 14,
   "id": "2240fa9c",
   "metadata": {},
   "outputs": [],
   "source": [
    "d2 = {'nmae': \"sai\"}"
   ]
  },
  {
   "cell_type": "code",
   "execution_count": 15,
   "id": "6b9b6984",
   "metadata": {},
   "outputs": [
    {
     "data": {
      "text/plain": [
       "{'nmae': 'sai'}"
      ]
     },
     "execution_count": 15,
     "metadata": {},
     "output_type": "execute_result"
    }
   ],
   "source": [
    "d2"
   ]
  },
  {
   "cell_type": "code",
   "execution_count": 22,
   "id": "46b69283",
   "metadata": {},
   "outputs": [],
   "source": [
    "d3 = {(3,5): \"sai\"}   "
   ]
  },
  {
   "cell_type": "code",
   "execution_count": 26,
   "id": "b92e73c3",
   "metadata": {},
   "outputs": [],
   "source": [
    "d2 = {\"name\": \"sai\", \"email\": (\"sai@email.com\", \"kar@email.com\"), \"age\": 29, \"height\": 5.8}\n"
   ]
  },
  {
   "cell_type": "code",
   "execution_count": 27,
   "id": "1296eebf",
   "metadata": {},
   "outputs": [
    {
     "data": {
      "text/plain": [
       "{'name': 'sai',\n",
       " 'email': ('sai@email.com', 'kar@email.com'),\n",
       " 'age': 29,\n",
       " 'height': 5.8}"
      ]
     },
     "execution_count": 27,
     "metadata": {},
     "output_type": "execute_result"
    }
   ],
   "source": []
  },
  {
   "cell_type": "code",
   "execution_count": 30,
   "id": "404f32c3",
   "metadata": {},
   "outputs": [],
   "source": [
    "d2['name'] = 'Kar'"
   ]
  },
  {
   "cell_type": "code",
   "execution_count": 31,
   "id": "6360bc9f",
   "metadata": {},
   "outputs": [
    {
     "data": {
      "text/plain": [
       "{'name': 'Kar',\n",
       " 'email': ('sai@email.com', 'kar@email.com'),\n",
       " 'age': 29,\n",
       " 'height': 5.8}"
      ]
     },
     "execution_count": 31,
     "metadata": {},
     "output_type": "execute_result"
    }
   ],
   "source": [
    "d2"
   ]
  },
  {
   "cell_type": "code",
   "execution_count": 32,
   "id": "d6bca6b4",
   "metadata": {},
   "outputs": [],
   "source": [
    "d2['email'] = \"test@email.com\""
   ]
  },
  {
   "cell_type": "code",
   "execution_count": 33,
   "id": "a849b308",
   "metadata": {},
   "outputs": [
    {
     "data": {
      "text/plain": [
       "{'name': 'Kar', 'email': 'test@email.com', 'age': 29, 'height': 5.8}"
      ]
     },
     "execution_count": 33,
     "metadata": {},
     "output_type": "execute_result"
    }
   ],
   "source": [
    "d2"
   ]
  },
  {
   "cell_type": "code",
   "execution_count": 34,
   "id": "b064e9c1",
   "metadata": {},
   "outputs": [],
   "source": [
    "d3 = {'name': 'Kar', 'email': 'test@email.com', 'age': 29, 'height': 5.8, \"tech\": [\"python\", \"Sql\", \"Hadoop\", \"Spark\"]}"
   ]
  },
  {
   "cell_type": "code",
   "execution_count": 35,
   "id": "28633cef",
   "metadata": {},
   "outputs": [
    {
     "data": {
      "text/plain": [
       "{'name': 'Kar',\n",
       " 'email': 'test@email.com',\n",
       " 'age': 29,\n",
       " 'height': 5.8,\n",
       " 'tech': ['python', 'Sql', 'Hadoop', 'Spark']}"
      ]
     },
     "execution_count": 35,
     "metadata": {},
     "output_type": "execute_result"
    }
   ],
   "source": [
    "d3"
   ]
  },
  {
   "cell_type": "code",
   "execution_count": 40,
   "id": "e9309726",
   "metadata": {},
   "outputs": [
    {
     "data": {
      "text/plain": [
       "'Sql'"
      ]
     },
     "execution_count": 40,
     "metadata": {},
     "output_type": "execute_result"
    }
   ],
   "source": [
    "d3['tech'][1]"
   ]
  },
  {
   "cell_type": "code",
   "execution_count": 41,
   "id": "21cf291c",
   "metadata": {},
   "outputs": [
    {
     "data": {
      "text/plain": [
       "['python', 'Sql', 'Hadoop', 'Spark']"
      ]
     },
     "execution_count": 41,
     "metadata": {},
     "output_type": "execute_result"
    }
   ],
   "source": [
    "d3['tech']"
   ]
  },
  {
   "cell_type": "code",
   "execution_count": 42,
   "id": "05e03488",
   "metadata": {},
   "outputs": [],
   "source": [
    "#CRUD -> Create, Read, Update, Delete"
   ]
  },
  {
   "cell_type": "code",
   "execution_count": 43,
   "id": "3a997318",
   "metadata": {},
   "outputs": [],
   "source": [
    "d3['tech'].append('karthik')"
   ]
  },
  {
   "cell_type": "code",
   "execution_count": 44,
   "id": "7c19d90e",
   "metadata": {},
   "outputs": [
    {
     "data": {
      "text/plain": [
       "{'name': 'Kar',\n",
       " 'email': 'test@email.com',\n",
       " 'age': 29,\n",
       " 'height': 5.8,\n",
       " 'tech': ['python', 'Sql', 'Hadoop', 'Spark', 'karthik']}"
      ]
     },
     "execution_count": 44,
     "metadata": {},
     "output_type": "execute_result"
    }
   ],
   "source": [
    "d3"
   ]
  },
  {
   "cell_type": "code",
   "execution_count": 45,
   "id": "79559e84",
   "metadata": {},
   "outputs": [],
   "source": [
    "d3['tech'][-1] = \"AWS\""
   ]
  },
  {
   "cell_type": "code",
   "execution_count": 46,
   "id": "6fbec94f",
   "metadata": {},
   "outputs": [
    {
     "data": {
      "text/plain": [
       "{'name': 'Kar',\n",
       " 'email': 'test@email.com',\n",
       " 'age': 29,\n",
       " 'height': 5.8,\n",
       " 'tech': ['python', 'Sql', 'Hadoop', 'Spark', 'AWS']}"
      ]
     },
     "execution_count": 46,
     "metadata": {},
     "output_type": "execute_result"
    }
   ],
   "source": [
    "d3"
   ]
  },
  {
   "cell_type": "code",
   "execution_count": 47,
   "id": "a0e04b50",
   "metadata": {},
   "outputs": [
    {
     "data": {
      "text/plain": [
       "{'name': 'Kar',\n",
       " 'email': 'test@email.com',\n",
       " 'age': 29,\n",
       " 'height': 5.8,\n",
       " 'tech': ['python', 'Sql', 'Hadoop', 'Spark', 'AWS']}"
      ]
     },
     "execution_count": 47,
     "metadata": {},
     "output_type": "execute_result"
    }
   ],
   "source": [
    "d3"
   ]
  },
  {
   "cell_type": "code",
   "execution_count": 48,
   "id": "b5ad6f61",
   "metadata": {},
   "outputs": [],
   "source": [
    "d3['name'] = \"patel\""
   ]
  },
  {
   "cell_type": "code",
   "execution_count": 49,
   "id": "2ba3291f",
   "metadata": {},
   "outputs": [
    {
     "data": {
      "text/plain": [
       "{'name': 'patel',\n",
       " 'email': 'test@email.com',\n",
       " 'age': 29,\n",
       " 'height': 5.8,\n",
       " 'tech': ['python', 'Sql', 'Hadoop', 'Spark', 'AWS']}"
      ]
     },
     "execution_count": 49,
     "metadata": {},
     "output_type": "execute_result"
    }
   ],
   "source": [
    "d3"
   ]
  },
  {
   "cell_type": "code",
   "execution_count": 50,
   "id": "496cb907",
   "metadata": {},
   "outputs": [],
   "source": [
    "d3[\"designation\"] = \"Junior D.E\"  #create or update"
   ]
  },
  {
   "cell_type": "code",
   "execution_count": 70,
   "id": "cf6d05b3",
   "metadata": {},
   "outputs": [],
   "source": [
    "d3[\"test\"] =\"spark test\""
   ]
  },
  {
   "cell_type": "code",
   "execution_count": 71,
   "id": "69aa7c19",
   "metadata": {},
   "outputs": [
    {
     "data": {
      "text/plain": [
       "{'name': 'saieswar',\n",
       " 'email': 'test@email.com',\n",
       " 'age': 29,\n",
       " 'height': 5.8,\n",
       " 'tech': ['python', 'Sql', 'Hadoop', 'Spark', 'AWS'],\n",
       " 'designation': 'Junior D.E',\n",
       " 'social': {'links': ['facebook', 'insta']},\n",
       " 'test': 'spark test'}"
      ]
     },
     "execution_count": 71,
     "metadata": {},
     "output_type": "execute_result"
    }
   ],
   "source": [
    "d3"
   ]
  },
  {
   "cell_type": "code",
   "execution_count": 51,
   "id": "eea1a1cd",
   "metadata": {},
   "outputs": [
    {
     "data": {
      "text/plain": [
       "{'name': 'patel',\n",
       " 'email': 'test@email.com',\n",
       " 'age': 29,\n",
       " 'height': 5.8,\n",
       " 'tech': ['python', 'Sql', 'Hadoop', 'Spark', 'AWS'],\n",
       " 'designation': 'Junior D.E'}"
      ]
     },
     "execution_count": 51,
     "metadata": {},
     "output_type": "execute_result"
    }
   ],
   "source": [
    "d3"
   ]
  },
  {
   "cell_type": "code",
   "execution_count": 53,
   "id": "37bd9ef7",
   "metadata": {},
   "outputs": [],
   "source": [
    "d3.update({\"name\": \"saieswar\"})"
   ]
  },
  {
   "cell_type": "code",
   "execution_count": 54,
   "id": "45a9aad2",
   "metadata": {},
   "outputs": [
    {
     "data": {
      "text/plain": [
       "{'name': 'saieswar',\n",
       " 'email': 'test@email.com',\n",
       " 'age': 29,\n",
       " 'height': 5.8,\n",
       " 'tech': ['python', 'Sql', 'Hadoop', 'Spark', 'AWS'],\n",
       " 'designation': 'Junior D.E'}"
      ]
     },
     "execution_count": 54,
     "metadata": {},
     "output_type": "execute_result"
    }
   ],
   "source": [
    "d3"
   ]
  },
  {
   "cell_type": "code",
   "execution_count": 55,
   "id": "eaae4ca7",
   "metadata": {},
   "outputs": [
    {
     "data": {
      "text/plain": [
       "{'name': 'saieswar',\n",
       " 'email': 'test@email.com',\n",
       " 'age': 29,\n",
       " 'height': 5.8,\n",
       " 'tech': ['python', 'Sql', 'Hadoop', 'Spark', 'AWS'],\n",
       " 'designation': 'Junior D.E'}"
      ]
     },
     "execution_count": 55,
     "metadata": {},
     "output_type": "execute_result"
    }
   ],
   "source": [
    "d3"
   ]
  },
  {
   "cell_type": "code",
   "execution_count": 56,
   "id": "425228f7",
   "metadata": {},
   "outputs": [
    {
     "data": {
      "text/plain": [
       "6"
      ]
     },
     "execution_count": 56,
     "metadata": {},
     "output_type": "execute_result"
    }
   ],
   "source": [
    "len(d3)"
   ]
  },
  {
   "cell_type": "code",
   "execution_count": 58,
   "id": "65741f5c",
   "metadata": {},
   "outputs": [],
   "source": [
    "d3[\"social\"] = {\"links\": ['facebook', 'insta']}"
   ]
  },
  {
   "cell_type": "code",
   "execution_count": 59,
   "id": "6feba126",
   "metadata": {},
   "outputs": [
    {
     "data": {
      "text/plain": [
       "{'name': 'saieswar',\n",
       " 'email': 'test@email.com',\n",
       " 'age': 29,\n",
       " 'height': 5.8,\n",
       " 'tech': ['python', 'Sql', 'Hadoop', 'Spark', 'AWS'],\n",
       " 'designation': 'Junior D.E',\n",
       " 'social': {'links': ['facebook', 'insta']}}"
      ]
     },
     "execution_count": 59,
     "metadata": {},
     "output_type": "execute_result"
    }
   ],
   "source": [
    "d3"
   ]
  },
  {
   "cell_type": "code",
   "execution_count": 61,
   "id": "5970c9ee",
   "metadata": {},
   "outputs": [
    {
     "data": {
      "text/plain": [
       "'insta'"
      ]
     },
     "execution_count": 61,
     "metadata": {},
     "output_type": "execute_result"
    }
   ],
   "source": [
    "d3['social']['links'][1]"
   ]
  },
  {
   "cell_type": "code",
   "execution_count": 62,
   "id": "f3ad175d",
   "metadata": {},
   "outputs": [
    {
     "data": {
      "text/plain": [
       "{'name': 'saieswar',\n",
       " 'email': 'test@email.com',\n",
       " 'age': 29,\n",
       " 'height': 5.8,\n",
       " 'tech': ['python', 'Sql', 'Hadoop', 'Spark', 'AWS'],\n",
       " 'designation': 'Junior D.E',\n",
       " 'social': {'links': ['facebook', 'insta']}}"
      ]
     },
     "execution_count": 62,
     "metadata": {},
     "output_type": "execute_result"
    }
   ],
   "source": [
    "d3"
   ]
  },
  {
   "cell_type": "code",
   "execution_count": 63,
   "id": "dcf8a905",
   "metadata": {},
   "outputs": [
    {
     "data": {
      "text/plain": [
       "7"
      ]
     },
     "execution_count": 63,
     "metadata": {},
     "output_type": "execute_result"
    }
   ],
   "source": [
    "len(d3)"
   ]
  },
  {
   "cell_type": "code",
   "execution_count": 64,
   "id": "8d426844",
   "metadata": {},
   "outputs": [
    {
     "data": {
      "text/plain": [
       "dict_keys(['name', 'email', 'age', 'height', 'tech', 'designation', 'social'])"
      ]
     },
     "execution_count": 64,
     "metadata": {},
     "output_type": "execute_result"
    }
   ],
   "source": [
    "d3.keys()"
   ]
  },
  {
   "cell_type": "code",
   "execution_count": 65,
   "id": "63786f26",
   "metadata": {},
   "outputs": [
    {
     "data": {
      "text/plain": [
       "dict_values(['saieswar', 'test@email.com', 29, 5.8, ['python', 'Sql', 'Hadoop', 'Spark', 'AWS'], 'Junior D.E', {'links': ['facebook', 'insta']}])"
      ]
     },
     "execution_count": 65,
     "metadata": {},
     "output_type": "execute_result"
    }
   ],
   "source": [
    "d3.values()"
   ]
  },
  {
   "cell_type": "code",
   "execution_count": 66,
   "id": "5e2bc11d",
   "metadata": {},
   "outputs": [
    {
     "data": {
      "text/plain": [
       "dict_items([('name', 'saieswar'), ('email', 'test@email.com'), ('age', 29), ('height', 5.8), ('tech', ['python', 'Sql', 'Hadoop', 'Spark', 'AWS']), ('designation', 'Junior D.E'), ('social', {'links': ['facebook', 'insta']})])"
      ]
     },
     "execution_count": 66,
     "metadata": {},
     "output_type": "execute_result"
    }
   ],
   "source": [
    "d3.items()"
   ]
  },
  {
   "cell_type": "code",
   "execution_count": 67,
   "id": "213a2bb9",
   "metadata": {},
   "outputs": [
    {
     "data": {
      "text/plain": [
       "{'name': 'saieswar',\n",
       " 'email': 'test@email.com',\n",
       " 'age': 29,\n",
       " 'height': 5.8,\n",
       " 'tech': ['python', 'Sql', 'Hadoop', 'Spark', 'AWS'],\n",
       " 'designation': 'Junior D.E',\n",
       " 'social': {'links': ['facebook', 'insta']}}"
      ]
     },
     "execution_count": 67,
     "metadata": {},
     "output_type": "execute_result"
    }
   ],
   "source": [
    "d3"
   ]
  },
  {
   "cell_type": "code",
   "execution_count": 68,
   "id": "b7b6e3ec",
   "metadata": {},
   "outputs": [
    {
     "data": {
      "text/plain": [
       "{'links': ['facebook', 'insta']}"
      ]
     },
     "execution_count": 68,
     "metadata": {},
     "output_type": "execute_result"
    }
   ],
   "source": [
    "d3.get('social')"
   ]
  },
  {
   "cell_type": "code",
   "execution_count": 73,
   "id": "d9d954cd",
   "metadata": {},
   "outputs": [],
   "source": [
    "# Assigmnet Call all the functions\n",
    "#anaconda"
   ]
  },
  {
   "cell_type": "code",
   "execution_count": null,
   "id": "b8ce21c9",
   "metadata": {},
   "outputs": [],
   "source": []
  }
 ],
 "metadata": {
  "kernelspec": {
   "display_name": "Python 3 (ipykernel)",
   "language": "python",
   "name": "python3"
  },
  "language_info": {
   "codemirror_mode": {
    "name": "ipython",
    "version": 3
   },
   "file_extension": ".py",
   "mimetype": "text/x-python",
   "name": "python",
   "nbconvert_exporter": "python",
   "pygments_lexer": "ipython3",
   "version": "3.11.4"
  }
 },
 "nbformat": 4,
 "nbformat_minor": 5
}
