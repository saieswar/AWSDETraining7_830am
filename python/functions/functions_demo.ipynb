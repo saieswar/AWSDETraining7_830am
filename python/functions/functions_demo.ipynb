{
 "cells": [
  {
   "cell_type": "code",
   "execution_count": 6,
   "id": "2614948d",
   "metadata": {},
   "outputs": [],
   "source": [
    "l = [5,8,1,43,4333, 88]"
   ]
  },
  {
   "cell_type": "code",
   "execution_count": 13,
   "id": "af52ec3d",
   "metadata": {},
   "outputs": [
    {
     "data": {
      "text/plain": [
       "6"
      ]
     },
     "execution_count": 13,
     "metadata": {},
     "output_type": "execute_result"
    }
   ],
   "source": [
    "len(l)"
   ]
  },
  {
   "cell_type": "code",
   "execution_count": 8,
   "id": "b5540a7f",
   "metadata": {},
   "outputs": [
    {
     "name": "stdout",
     "output_type": "stream",
     "text": [
      "6\n"
     ]
    }
   ],
   "source": [
    "length  = 0\n",
    "for i in l:\n",
    "    length = length + 1\n",
    "print(length)"
   ]
  },
  {
   "cell_type": "code",
   "execution_count": 9,
   "id": "c9a5ee50",
   "metadata": {},
   "outputs": [],
   "source": [
    "l2 = [5,8,1,43,4333, 88, \"Sah\"]"
   ]
  },
  {
   "cell_type": "code",
   "execution_count": 11,
   "id": "afba8d97",
   "metadata": {},
   "outputs": [
    {
     "name": "stdout",
     "output_type": "stream",
     "text": [
      "7\n"
     ]
    }
   ],
   "source": [
    "length  = 0\n",
    "for i in l2:\n",
    "    length = length + 1\n",
    "print(length)"
   ]
  },
  {
   "cell_type": "code",
   "execution_count": 26,
   "id": "6c59b661",
   "metadata": {},
   "outputs": [],
   "source": [
    "def kar_add_cal(a,b):\n",
    "    return a+b\n",
    "    "
   ]
  },
  {
   "cell_type": "code",
   "execution_count": 27,
   "id": "788ba246",
   "metadata": {},
   "outputs": [
    {
     "data": {
      "text/plain": [
       "12"
      ]
     },
     "execution_count": 27,
     "metadata": {},
     "output_type": "execute_result"
    }
   ],
   "source": [
    "kar_add_cal(5,7)"
   ]
  },
  {
   "cell_type": "code",
   "execution_count": 24,
   "id": "b861a8ce",
   "metadata": {},
   "outputs": [
    {
     "name": "stdout",
     "output_type": "stream",
     "text": [
      "9\n"
     ]
    },
    {
     "data": {
      "text/plain": [
       "NoneType"
      ]
     },
     "execution_count": 24,
     "metadata": {},
     "output_type": "execute_result"
    }
   ],
   "source": [
    "type(kar_add_cal(2,7))"
   ]
  },
  {
   "cell_type": "code",
   "execution_count": 25,
   "id": "058acf57",
   "metadata": {},
   "outputs": [
    {
     "name": "stdout",
     "output_type": "stream",
     "text": [
      "sai\n"
     ]
    },
    {
     "data": {
      "text/plain": [
       "NoneType"
      ]
     },
     "execution_count": 25,
     "metadata": {},
     "output_type": "execute_result"
    }
   ],
   "source": [
    "type(print(\"sai\"))"
   ]
  },
  {
   "cell_type": "code",
   "execution_count": 28,
   "id": "6705eba9",
   "metadata": {},
   "outputs": [
    {
     "data": {
      "text/plain": [
       "14"
      ]
     },
     "execution_count": 28,
     "metadata": {},
     "output_type": "execute_result"
    }
   ],
   "source": [
    "kar_add_cal(2,7) + 5"
   ]
  },
  {
   "cell_type": "code",
   "execution_count": 29,
   "id": "c2787b2f",
   "metadata": {},
   "outputs": [],
   "source": [
    "def kar_add_cal(a,b):\n",
    "    return a+b"
   ]
  },
  {
   "cell_type": "code",
   "execution_count": 30,
   "id": "f28ebaf2",
   "metadata": {},
   "outputs": [
    {
     "data": {
      "text/plain": [
       "int"
      ]
     },
     "execution_count": 30,
     "metadata": {},
     "output_type": "execute_result"
    }
   ],
   "source": [
    "type(kar_add_cal(2,7))"
   ]
  },
  {
   "cell_type": "code",
   "execution_count": 32,
   "id": "c9a44312",
   "metadata": {},
   "outputs": [
    {
     "data": {
      "text/plain": [
       "54"
      ]
     },
     "execution_count": 32,
     "metadata": {},
     "output_type": "execute_result"
    }
   ],
   "source": [
    "kar_add_cal(2,7) * 6"
   ]
  },
  {
   "cell_type": "code",
   "execution_count": 33,
   "id": "83eab347",
   "metadata": {},
   "outputs": [
    {
     "data": {
      "text/plain": [
       "210"
      ]
     },
     "execution_count": 33,
     "metadata": {},
     "output_type": "execute_result"
    }
   ],
   "source": [
    "def patel_test(a,b,c):\n",
    "    return a * b * c\n",
    "x, y, z = 5,6,7\n",
    "patel_test(x,y,z)\n"
   ]
  },
  {
   "cell_type": "code",
   "execution_count": 45,
   "id": "9de23f60",
   "metadata": {},
   "outputs": [
    {
     "data": {
      "text/plain": [
       "24"
      ]
     },
     "execution_count": 45,
     "metadata": {},
     "output_type": "execute_result"
    }
   ],
   "source": [
    "p = patel_test(2,4,3)\n",
    "p"
   ]
  },
  {
   "cell_type": "code",
   "execution_count": 35,
   "id": "51f2f13c",
   "metadata": {},
   "outputs": [],
   "source": [
    "def patel_test(a,b,c):\n",
    "    return a * b * c\n"
   ]
  },
  {
   "cell_type": "code",
   "execution_count": 36,
   "id": "e21fda61",
   "metadata": {},
   "outputs": [
    {
     "ename": "TypeError",
     "evalue": "patel_test() missing 1 required positional argument: 'c'",
     "output_type": "error",
     "traceback": [
      "\u001b[1;31m---------------------------------------------------------------------------\u001b[0m",
      "\u001b[1;31mTypeError\u001b[0m                                 Traceback (most recent call last)",
      "Cell \u001b[1;32mIn[36], line 1\u001b[0m\n\u001b[1;32m----> 1\u001b[0m \u001b[43mpatel_test\u001b[49m\u001b[43m(\u001b[49m\u001b[38;5;241;43m3\u001b[39;49m\u001b[43m,\u001b[49m\u001b[38;5;241;43m6\u001b[39;49m\u001b[43m)\u001b[49m\n",
      "\u001b[1;31mTypeError\u001b[0m: patel_test() missing 1 required positional argument: 'c'"
     ]
    }
   ],
   "source": [
    "patel_test(3,6)"
   ]
  },
  {
   "cell_type": "code",
   "execution_count": 42,
   "id": "0ed93452",
   "metadata": {},
   "outputs": [],
   "source": [
    "def test1(a,b,c):\n",
    "    return a, b , c"
   ]
  },
  {
   "cell_type": "code",
   "execution_count": 50,
   "id": "ce28e5fb",
   "metadata": {},
   "outputs": [],
   "source": [
    "a,t,y = test1(4,5,6)"
   ]
  },
  {
   "cell_type": "code",
   "execution_count": 54,
   "id": "f5033777",
   "metadata": {},
   "outputs": [],
   "source": [
    "_,t,_ = test1(4,5,6)"
   ]
  },
  {
   "cell_type": "code",
   "execution_count": 57,
   "id": "ed3cf090",
   "metadata": {},
   "outputs": [
    {
     "data": {
      "text/plain": [
       "5"
      ]
     },
     "execution_count": 57,
     "metadata": {},
     "output_type": "execute_result"
    }
   ],
   "source": [
    "t"
   ]
  },
  {
   "cell_type": "code",
   "execution_count": null,
   "id": "27daa8cc",
   "metadata": {},
   "outputs": [],
   "source": [
    "f"
   ]
  },
  {
   "cell_type": "code",
   "execution_count": null,
   "id": "d55de798",
   "metadata": {},
   "outputs": [],
   "source": []
  },
  {
   "cell_type": "code",
   "execution_count": 58,
   "id": "ebf52e5f",
   "metadata": {},
   "outputs": [
    {
     "name": "stdout",
     "output_type": "stream",
     "text": [
      "6\n"
     ]
    }
   ],
   "source": [
    "length  = 0\n",
    "for i in l:\n",
    "    length = length + 1\n",
    "print(length)"
   ]
  },
  {
   "cell_type": "code",
   "execution_count": null,
   "id": "60964379",
   "metadata": {},
   "outputs": [],
   "source": []
  },
  {
   "cell_type": "code",
   "execution_count": 65,
   "id": "c013aeb9",
   "metadata": {},
   "outputs": [],
   "source": [
    "def my_own_length(obj):\n",
    "    \"\"\"My Function returns length of any given list from your end\"\"\"\n",
    "    length = 0 \n",
    "    for i in obj:\n",
    "        length = length + 1\n",
    "    return length"
   ]
  },
  {
   "cell_type": "code",
   "execution_count": 66,
   "id": "6f95d82f",
   "metadata": {},
   "outputs": [
    {
     "data": {
      "text/plain": [
       "3"
      ]
     },
     "execution_count": 66,
     "metadata": {},
     "output_type": "execute_result"
    }
   ],
   "source": [
    "l3 = [\"sai\", \"karthik\", \"Apple\"]\n",
    "my_own_length(l3)"
   ]
  },
  {
   "cell_type": "code",
   "execution_count": 67,
   "id": "35e69ca4",
   "metadata": {},
   "outputs": [
    {
     "data": {
      "text/plain": [
       "3"
      ]
     },
     "execution_count": 67,
     "metadata": {},
     "output_type": "execute_result"
    }
   ],
   "source": [
    "my_own_length(l)"
   ]
  },
  {
   "cell_type": "code",
   "execution_count": null,
   "id": "8f9a2529",
   "metadata": {},
   "outputs": [],
   "source": []
  },
  {
   "cell_type": "code",
   "execution_count": 68,
   "id": "5039d802",
   "metadata": {},
   "outputs": [],
   "source": [
    "def test4(b,c=8):\n",
    "    return b+c\n"
   ]
  },
  {
   "cell_type": "code",
   "execution_count": 69,
   "id": "d870bbc6",
   "metadata": {},
   "outputs": [
    {
     "data": {
      "text/plain": [
       "11"
      ]
     },
     "execution_count": 69,
     "metadata": {},
     "output_type": "execute_result"
    }
   ],
   "source": [
    "test4(3)"
   ]
  },
  {
   "cell_type": "code",
   "execution_count": 70,
   "id": "54088c23",
   "metadata": {},
   "outputs": [],
   "source": [
    "def test5(b=7,c=8):\n",
    "    return b+c\n"
   ]
  },
  {
   "cell_type": "code",
   "execution_count": 71,
   "id": "618a311c",
   "metadata": {},
   "outputs": [
    {
     "data": {
      "text/plain": [
       "15"
      ]
     },
     "execution_count": 71,
     "metadata": {},
     "output_type": "execute_result"
    }
   ],
   "source": [
    "test5()"
   ]
  },
  {
   "cell_type": "code",
   "execution_count": 72,
   "id": "e588fd08",
   "metadata": {},
   "outputs": [
    {
     "data": {
      "text/plain": [
       "7"
      ]
     },
     "execution_count": 72,
     "metadata": {},
     "output_type": "execute_result"
    }
   ],
   "source": [
    "test5(5,2)"
   ]
  },
  {
   "cell_type": "code",
   "execution_count": 73,
   "id": "023476f6",
   "metadata": {},
   "outputs": [
    {
     "data": {
      "text/plain": [
       "13"
      ]
     },
     "execution_count": 73,
     "metadata": {},
     "output_type": "execute_result"
    }
   ],
   "source": [
    "test5(5)"
   ]
  },
  {
   "cell_type": "code",
   "execution_count": 76,
   "id": "43dde14c",
   "metadata": {},
   "outputs": [],
   "source": [
    "def test7(a,b,c):\n",
    "    return \"sai\"\n"
   ]
  },
  {
   "cell_type": "code",
   "execution_count": 77,
   "id": "41f76267",
   "metadata": {},
   "outputs": [
    {
     "data": {
      "text/plain": [
       "'sai'"
      ]
     },
     "execution_count": 77,
     "metadata": {},
     "output_type": "execute_result"
    }
   ],
   "source": [
    "test7(4,6,7)"
   ]
  },
  {
   "cell_type": "code",
   "execution_count": null,
   "id": "c5f3b430",
   "metadata": {},
   "outputs": [],
   "source": []
  },
  {
   "cell_type": "code",
   "execution_count": 78,
   "id": "a6105fe0",
   "metadata": {},
   "outputs": [
    {
     "data": {
      "text/plain": [
       "(6, 7)"
      ]
     },
     "execution_count": 78,
     "metadata": {},
     "output_type": "execute_result"
    }
   ],
   "source": [
    "def test10(a,b):\n",
    "    return a,b\n",
    "\n",
    "test10(6,7)"
   ]
  },
  {
   "cell_type": "code",
   "execution_count": 79,
   "id": "7af5f4ab",
   "metadata": {},
   "outputs": [
    {
     "ename": "TypeError",
     "evalue": "test10() takes 2 positional arguments but 3 were given",
     "output_type": "error",
     "traceback": [
      "\u001b[1;31m---------------------------------------------------------------------------\u001b[0m",
      "\u001b[1;31mTypeError\u001b[0m                                 Traceback (most recent call last)",
      "Cell \u001b[1;32mIn[79], line 1\u001b[0m\n\u001b[1;32m----> 1\u001b[0m \u001b[43mtest10\u001b[49m\u001b[43m(\u001b[49m\u001b[38;5;241;43m6\u001b[39;49m\u001b[43m,\u001b[49m\u001b[38;5;241;43m7\u001b[39;49m\u001b[43m,\u001b[49m\u001b[43m \u001b[49m\u001b[38;5;241;43m8\u001b[39;49m\u001b[43m)\u001b[49m\n",
      "\u001b[1;31mTypeError\u001b[0m: test10() takes 2 positional arguments but 3 were given"
     ]
    }
   ],
   "source": [
    "test10(6,7, 8)"
   ]
  },
  {
   "cell_type": "code",
   "execution_count": 80,
   "id": "9f35fe87",
   "metadata": {},
   "outputs": [],
   "source": [
    "def test10(*args):\n",
    "    return args\n"
   ]
  },
  {
   "cell_type": "code",
   "execution_count": 82,
   "id": "41d77667",
   "metadata": {},
   "outputs": [
    {
     "data": {
      "text/plain": [
       "(10,)"
      ]
     },
     "execution_count": 82,
     "metadata": {},
     "output_type": "execute_result"
    }
   ],
   "source": [
    "test10(10)"
   ]
  },
  {
   "cell_type": "code",
   "execution_count": 83,
   "id": "9e2a1ca5",
   "metadata": {},
   "outputs": [
    {
     "data": {
      "text/plain": [
       "(10, 33, 4)"
      ]
     },
     "execution_count": 83,
     "metadata": {},
     "output_type": "execute_result"
    }
   ],
   "source": [
    "test10(10,33,4)"
   ]
  },
  {
   "cell_type": "code",
   "execution_count": 84,
   "id": "691b0ea2",
   "metadata": {},
   "outputs": [
    {
     "data": {
      "text/plain": [
       "()"
      ]
     },
     "execution_count": 84,
     "metadata": {},
     "output_type": "execute_result"
    }
   ],
   "source": [
    "test10()"
   ]
  },
  {
   "cell_type": "code",
   "execution_count": 86,
   "id": "70ea30f9",
   "metadata": {},
   "outputs": [
    {
     "data": {
      "text/plain": [
       "(45, 'Sai', [12, 44])"
      ]
     },
     "execution_count": 86,
     "metadata": {},
     "output_type": "execute_result"
    }
   ],
   "source": [
    "test10(45,\"Sai\", [12,44])"
   ]
  },
  {
   "cell_type": "code",
   "execution_count": null,
   "id": "88ffce8f",
   "metadata": {},
   "outputs": [],
   "source": []
  },
  {
   "cell_type": "code",
   "execution_count": 90,
   "id": "de709156",
   "metadata": {},
   "outputs": [
    {
     "data": {
      "text/plain": [
       "((11, 4, 111), 5, 7, 9)"
      ]
     },
     "execution_count": 90,
     "metadata": {},
     "output_type": "execute_result"
    }
   ],
   "source": [
    "def test11(*args, a,b,c):\n",
    "    return args, a, b, c\n",
    "\n",
    "test11(11,4,111,a =5,b=7,c=9)"
   ]
  },
  {
   "cell_type": "code",
   "execution_count": null,
   "id": "1b4c1bf3",
   "metadata": {},
   "outputs": [],
   "source": []
  },
  {
   "cell_type": "code",
   "execution_count": 91,
   "id": "931544a6",
   "metadata": {},
   "outputs": [],
   "source": [
    "# **kwargs\n",
    "def test12(**kwargs):              #key val pair\n",
    "    return kwargs\n",
    "    "
   ]
  },
  {
   "cell_type": "code",
   "execution_count": 94,
   "id": "3a66e362",
   "metadata": {},
   "outputs": [
    {
     "data": {
      "text/plain": [
       "dict"
      ]
     },
     "execution_count": 94,
     "metadata": {},
     "output_type": "execute_result"
    }
   ],
   "source": [
    "type(test12(a=2,b=3,c=5))"
   ]
  },
  {
   "cell_type": "code",
   "execution_count": 95,
   "id": "c9a180d5",
   "metadata": {},
   "outputs": [
    {
     "data": {
      "text/plain": [
       "{'a': 3, 'b': [3, 5, 6], 'c': 'sai'}"
      ]
     },
     "execution_count": 95,
     "metadata": {},
     "output_type": "execute_result"
    }
   ],
   "source": [
    "test12(a=3, b=[3,5,6], c= \"sai\")"
   ]
  },
  {
   "cell_type": "code",
   "execution_count": 97,
   "id": "ddf8115f",
   "metadata": {},
   "outputs": [
    {
     "data": {
      "text/plain": [
       "9"
      ]
     },
     "execution_count": 97,
     "metadata": {},
     "output_type": "execute_result"
    }
   ],
   "source": [
    "def add_opr(a,b):\n",
    "    return a+b\n",
    "add_opr(4,5)"
   ]
  },
  {
   "cell_type": "code",
   "execution_count": 100,
   "id": "1c3a9f52",
   "metadata": {},
   "outputs": [
    {
     "data": {
      "text/plain": [
       "8"
      ]
     },
     "execution_count": 100,
     "metadata": {},
     "output_type": "execute_result"
    }
   ],
   "source": [
    "# anonymous function\n",
    "\n",
    "x = lambda a,b: a+b\n",
    "\n",
    "\n",
    "x(6,2)\n"
   ]
  },
  {
   "cell_type": "code",
   "execution_count": 101,
   "id": "3e94c647",
   "metadata": {},
   "outputs": [
    {
     "data": {
      "text/plain": [
       "<function __main__.<lambda>(a, b)>"
      ]
     },
     "execution_count": 101,
     "metadata": {},
     "output_type": "execute_result"
    }
   ],
   "source": [
    "lambda a,b : a+b"
   ]
  },
  {
   "cell_type": "code",
   "execution_count": null,
   "id": "b2abbcb9",
   "metadata": {},
   "outputs": [],
   "source": []
  },
  {
   "cell_type": "code",
   "execution_count": 102,
   "id": "4993946a",
   "metadata": {},
   "outputs": [],
   "source": [
    "y = lambda a : [i for i in a]"
   ]
  },
  {
   "cell_type": "code",
   "execution_count": 103,
   "id": "1bbf89b9",
   "metadata": {},
   "outputs": [
    {
     "data": {
      "text/plain": [
       "['sai', 'karthik', 'Apple']"
      ]
     },
     "execution_count": 103,
     "metadata": {},
     "output_type": "execute_result"
    }
   ],
   "source": [
    "y(l)"
   ]
  },
  {
   "cell_type": "code",
   "execution_count": 104,
   "id": "8bffc089",
   "metadata": {},
   "outputs": [
    {
     "data": {
      "text/plain": [
       "['sai', 'karthik', 'Apple']"
      ]
     },
     "execution_count": 104,
     "metadata": {},
     "output_type": "execute_result"
    }
   ],
   "source": [
    "l"
   ]
  },
  {
   "cell_type": "code",
   "execution_count": null,
   "id": "f8cde05b",
   "metadata": {},
   "outputs": [],
   "source": []
  },
  {
   "cell_type": "code",
   "execution_count": 105,
   "id": "7afdd06c",
   "metadata": {},
   "outputs": [],
   "source": [
    "# pratice the sheet\n",
    "# create a function which will take any number args and concatinate strings\n",
    "\n",
    "#create a fun, take any number of keyword args, if the value is list  return number of strings in side list\n",
    "# i/p => a=5, b=6, c=[1,5,\"sai\", \"eswar\", 14], d = [\"kar\", 9]           => o/p = 3\n",
    "\n",
    "# map\n",
    "# Filter\n",
    "# Reduce"
   ]
  },
  {
   "cell_type": "code",
   "execution_count": null,
   "id": "a9174235",
   "metadata": {},
   "outputs": [],
   "source": []
  },
  {
   "cell_type": "code",
   "execution_count": null,
   "id": "d329f3c9",
   "metadata": {},
   "outputs": [],
   "source": []
  },
  {
   "cell_type": "code",
   "execution_count": null,
   "id": "70abe722",
   "metadata": {},
   "outputs": [],
   "source": []
  }
 ],
 "metadata": {
  "kernelspec": {
   "display_name": "Python 3 (ipykernel)",
   "language": "python",
   "name": "python3"
  },
  "language_info": {
   "codemirror_mode": {
    "name": "ipython",
    "version": 3
   },
   "file_extension": ".py",
   "mimetype": "text/x-python",
   "name": "python",
   "nbconvert_exporter": "python",
   "pygments_lexer": "ipython3",
   "version": "3.11.4"
  }
 },
 "nbformat": 4,
 "nbformat_minor": 5
}
